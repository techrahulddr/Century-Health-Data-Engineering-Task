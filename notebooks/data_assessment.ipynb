import pandas as pd

# Load datasets
patients = pd.read_csv('data/raw/patients.csv')
encounters = pd.read_parquet('data/raw/encounters.parquet')
symptoms = pd.read_csv('data/raw/symptoms.csv')
medications = pd.read_csv('data/raw/medications.csv')
conditions = pd.read_excel('data/raw/conditions.xlsx')

# Display first rows of each dataset
print(patients.head())
print(encounters.head())
print(symptoms.head())
print(medications.head())
print(conditions.head())
