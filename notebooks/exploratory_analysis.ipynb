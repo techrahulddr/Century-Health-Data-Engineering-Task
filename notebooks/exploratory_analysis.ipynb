import pandas as pd
import matplotlib.pyplot as plt
import seaborn as sns

# Load datasets (adjust paths as needed)
patients = pd.read_csv('/data/raw//patients.csv')
symptoms = pd.read_csv('/data/raw/symptoms.csv')

# Example: Analyze age distribution
plt.figure(figsize=(10, 6))
sns.histplot(patients['age'], kde=True, bins=30)
plt.title("Age Distribution")
plt.xlabel("Age")
plt.ylabel("Frequency")
plt.show()
